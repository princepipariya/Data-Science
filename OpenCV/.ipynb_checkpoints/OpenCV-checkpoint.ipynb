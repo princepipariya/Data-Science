{
 "cells": [
  {
   "cell_type": "code",
   "execution_count": null,
   "id": "d8c75cf5",
   "metadata": {},
   "outputs": [
    {
     "name": "stdout",
     "output_type": "stream",
     "text": [
      "[[[128 138 225]\n",
      "  [127 137 224]\n",
      "  [126 136 223]\n",
      "  ...\n",
      "  [126 146 234]\n",
      "  [110 129 220]\n",
      "  [ 86 104 197]]\n",
      "\n",
      " [[127 138 222]\n",
      "  [127 137 224]\n",
      "  [127 137 224]\n",
      "  ...\n",
      "  [130 150 235]\n",
      "  [112 131 218]\n",
      "  [ 83 102 189]]\n",
      "\n",
      " [[127 138 222]\n",
      "  [127 137 224]\n",
      "  [128 138 225]\n",
      "  ...\n",
      "  [127 148 230]\n",
      "  [112 133 215]\n",
      "  [ 85 105 190]]\n",
      "\n",
      " ...\n",
      "\n",
      " [[ 55  21  82]\n",
      "  [ 54  20  81]\n",
      "  [ 62  28  92]\n",
      "  ...\n",
      "  [ 82  71 175]\n",
      "  [ 78  68 175]\n",
      "  [ 74  65 175]]\n",
      "\n",
      " [[ 55  18  80]\n",
      "  [ 54  20  81]\n",
      "  [ 67  33  94]\n",
      "  ...\n",
      "  [ 82  69 177]\n",
      "  [ 82  70 182]\n",
      "  [ 81  72 183]]\n",
      "\n",
      " [[ 56  19  81]\n",
      "  [ 58  21  83]\n",
      "  [ 69  35  96]\n",
      "  ...\n",
      "  [ 81  68 178]\n",
      "  [ 83  71 183]\n",
      "  [ 84  74 188]]]\n"
     ]
    }
   ],
   "source": [
    "import cv2\n",
    "\n",
    "img = cv2.imread('lena.jpg', -1) # flag 0, 1, -1\n",
    "print(img) # if file name is wrong then it will print none\n",
    "cv2.imshow('image', img) # (name of window, variable)\n",
    "cv2.waitKey(0) #image will show only for 5 sec. otherwis it will show only milisecond; If we write 0 then it will stay infinity time.\n",
    "cv2.destroyAllWindows() # for destroy all window\n",
    "\n",
    "cv2.imwrite('lena_copy.jpg', img)"
   ]
  },
  {
   "cell_type": "code",
   "execution_count": 6,
   "id": "ed151aa8",
   "metadata": {},
   "outputs": [],
   "source": [
    "import cv2\n",
    "cap = cv2.VideoCapture(0) # index 0 or -1 and if multiple camera then 1, 2, ...\n",
    "\n",
    "while(True) :\n",
    "    ret, f1 = cap.read() # this fun. return true if the frame is availabe and frame will save into f1 variable and trure or false store into ret.\n",
    "    cv2.imshow('frame', f1)\n",
    "    "
   ]
  }
 ],
 "metadata": {
  "kernelspec": {
   "display_name": "Python 3",
   "language": "python",
   "name": "python3"
  },
  "language_info": {
   "codemirror_mode": {
    "name": "ipython",
    "version": 3
   },
   "file_extension": ".py",
   "mimetype": "text/x-python",
   "name": "python",
   "nbconvert_exporter": "python",
   "pygments_lexer": "ipython3",
   "version": "3.8.3"
  }
 },
 "nbformat": 4,
 "nbformat_minor": 5
}
