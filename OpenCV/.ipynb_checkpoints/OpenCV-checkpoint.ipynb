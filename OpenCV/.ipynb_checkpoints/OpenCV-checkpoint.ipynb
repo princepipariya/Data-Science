{
 "cells": [
  {
   "cell_type": "code",
   "execution_count": 1,
   "id": "d8c75cf5",
   "metadata": {
    "scrolled": true
   },
   "outputs": [],
   "source": [
    "import cv2\n",
    "import numpy as np"
   ]
  },
  {
   "cell_type": "code",
   "execution_count": 2,
   "id": "2caf8bef",
   "metadata": {},
   "outputs": [
    {
     "data": {
      "text/plain": [
       "'4.5.0'"
      ]
     },
     "execution_count": 2,
     "metadata": {},
     "output_type": "execute_result"
    }
   ],
   "source": [
    "cv2.__version__"
   ]
  },
  {
   "cell_type": "markdown",
   "id": "c3268de3",
   "metadata": {},
   "source": [
    "## For Image"
   ]
  },
  {
   "cell_type": "markdown",
   "id": "e05aed11",
   "metadata": {},
   "source": [
    "* <b><u>Note</u></b>\n",
    "* cv2.IMREAD_UNCHANGED  -->  -1\n",
    "* cv2.IMREAD_GRAYSCALE  -->   0\n",
    "* cv2.IMREAD_COLOR      -->   1"
   ]
  },
  {
   "cell_type": "code",
   "execution_count": 4,
   "id": "825cf056",
   "metadata": {},
   "outputs": [
    {
     "data": {
      "text/plain": [
       "True"
      ]
     },
     "execution_count": 4,
     "metadata": {},
     "output_type": "execute_result"
    }
   ],
   "source": [
    "img = cv2.imread('lena.jpg', 0) # flag 0, 1, -1\n",
    "# if file name is wrong then it will print none\n",
    "cv2.imshow('image', img) # (name of window, variable)\n",
    "#cv2.waitKey(0) #image will show only for 5 sec. otherwise it will show only milisecond; If we write 0 then it will stay infinity time.\n",
    "cv2.waitKey(5000)\n",
    "cv2.destroyAllWindows() # for destroy all window\n",
    "cv2.imwrite('lena_copy.png', img)"
   ]
  },
  {
   "cell_type": "markdown",
   "id": "5b537960",
   "metadata": {},
   "source": [
    "* **<u>Operation</u>**\n",
    "* Press s for save with lena_copy1.png\n",
    "* Press Esc for destroy all windows without saving\n",
    "- For Esc value of key is 27.\n",
    "- For s value we can use ord function like k==ord('s')"
   ]
  },
  {
   "cell_type": "code",
   "execution_count": 3,
   "id": "8f25568a",
   "metadata": {},
   "outputs": [],
   "source": [
    "img = cv2.imread('lena.jpg', 1)\n",
    "cv2.imshow('image', img)\n",
    "# Store value of key\n",
    "k = cv2.waitKey(0)\n",
    "\n",
    "if k==27 : # For Esc\n",
    "    cv2.destroyAllWindows()\n",
    "elif k==ord('s') : # For s using ord function\n",
    "    cv2.imwrite('lena_copy1.png', img)\n",
    "    cv2.destroyAllWindows()"
   ]
  },
  {
   "cell_type": "markdown",
   "id": "8399a16e",
   "metadata": {},
   "source": [
    "## For Video"
   ]
  },
  {
   "cell_type": "code",
   "execution_count": 1,
   "id": "e03f752e",
   "metadata": {},
   "outputs": [],
   "source": [
    "import cv2\n",
    "import numpy as np"
   ]
  },
  {
   "cell_type": "code",
   "execution_count": 10,
   "id": "ed151aa8",
   "metadata": {},
   "outputs": [],
   "source": [
    "cap = cv2.VideoCapture(0) \n",
    "# index 0 or -1 and if multiple camera then 1, 2, ... or write file name like av.mp4\n",
    "\n",
    "# For capture frame\n",
    "while(True) :\n",
    "    ret, f1 = cap.read() \n",
    "    # this ret function return true if the frame is availabe and frame will save into f1 variable.\n",
    "    cv2.imshow('frame', f1) #frame is name of window.\n",
    "    if cv2.waitKey(1) & 0xFF==ord('q') :\n",
    "        break\n",
    "        \n",
    "cap.release() # release the capture variable means release resources\n",
    "cv2.destroyAllWindows()"
   ]
  },
  {
   "cell_type": "markdown",
   "id": "67d2d27c",
   "metadata": {},
   "source": [
    "* For Gray screen"
   ]
  },
  {
   "cell_type": "code",
   "execution_count": 12,
   "id": "6b7e28d4",
   "metadata": {},
   "outputs": [],
   "source": [
    "cap = cv2.VideoCapture(0) \n",
    "\n",
    "while(True) :\n",
    "    ret, f1 = cap.read() \n",
    "    \n",
    "    # For Gray color or for other red manual\n",
    "    gray_frame = cv2.cvtColor(f1, cv2.COLOR_BGR2GRAY)\n",
    "    \n",
    "    cv2.imshow('frame', gray_frame)\n",
    "    if cv2.waitKey(1) & 0xFF==ord('q') :\n",
    "        break\n",
    "        \n",
    "cap.release()\n",
    "cv2.destroyAllWindows()"
   ]
  },
  {
   "cell_type": "code",
   "execution_count": 6,
   "id": "e6335098",
   "metadata": {},
   "outputs": [
    {
     "name": "stdout",
     "output_type": "stream",
     "text": [
      "True\n"
     ]
    }
   ],
   "source": [
    "cap = cv2.VideoCapture(0) \n",
    "\n",
    "print(cap.isOpened())\n",
    "# If file path is wrong or parameter of VideoCapture() is worng\n",
    "while(cap.isOpened()) : # It wiil give true or false.\n",
    "    ret, f1 = cap.read() \n",
    "    \n",
    "    # For Gray color or for other red manual\n",
    "    gray_frame = cv2.cvtColor(f1, cv2.COLOR_BGR2GRAY)\n",
    "    \n",
    "    cv2.imshow('frame', gray_frame)\n",
    "    if cv2.waitKey(1) & 0xFF==ord('q') :\n",
    "        break\n",
    "        \n",
    "cap.release()\n",
    "cv2.destroyAllWindows()"
   ]
  },
  {
   "cell_type": "code",
   "execution_count": 8,
   "id": "16734e8a",
   "metadata": {},
   "outputs": [],
   "source": [
    "cap = cv2.VideoCapture('My_video.mp4') # .avi also video extension"
   ]
  },
  {
   "cell_type": "code",
   "execution_count": null,
   "id": "00db5a05",
   "metadata": {},
   "outputs": [],
   "source": []
  }
 ],
 "metadata": {
  "kernelspec": {
   "display_name": "Python 3",
   "language": "python",
   "name": "python3"
  },
  "language_info": {
   "codemirror_mode": {
    "name": "ipython",
    "version": 3
   },
   "file_extension": ".py",
   "mimetype": "text/x-python",
   "name": "python",
   "nbconvert_exporter": "python",
   "pygments_lexer": "ipython3",
   "version": "3.8.3"
  }
 },
 "nbformat": 4,
 "nbformat_minor": 5
}
