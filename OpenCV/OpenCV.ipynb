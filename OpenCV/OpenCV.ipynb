{
 "cells": [
  {
   "cell_type": "code",
   "execution_count": null,
   "id": "d8c75cf5",
   "metadata": {
    "scrolled": true
   },
   "outputs": [],
   "source": [
    "import cv2\n",
    "\n",
    "img = cv2.imread('lena.jpg', 0) # flag 0, 1, -1\n",
    "#print(img) # if file name is wrong then it will print none\n",
    "cv2.imshow('image', img) # (name of window, variable)\n",
    "cv2.waitKey(5000) #image will show only for 5 sec. otherwis it will show only milisecond; If we write 0 then it will stay infinity time.\n",
    "cv2.destroyAllWindows() # for destroy all window\n",
    "\n",
    "cv2.imwrite('lena_copy.png', img)\n"
   ]
  },
  {
   "cell_type": "code",
   "execution_count": 6,
   "id": "ed151aa8",
   "metadata": {},
   "outputs": [],
   "source": [
    "import cv2\n",
    "cap = cv2.VideoCapture(0) # index 0 or -1 and if multiple camera then 1, 2, ...\n",
    "\n",
    "while(True) :\n",
    "    ret, f1 = cap.read() # this fun. return true if the frame is availabe and frame will save into f1 variable and trure or false store into ret.\n",
    "    cv2.imshow('frame', f1)\n",
    "    "
   ]
  }
 ],
 "metadata": {
  "kernelspec": {
   "display_name": "Python 3",
   "language": "python",
   "name": "python3"
  },
  "language_info": {
   "codemirror_mode": {
    "name": "ipython",
    "version": 3
   },
   "file_extension": ".py",
   "mimetype": "text/x-python",
   "name": "python",
   "nbconvert_exporter": "python",
   "pygments_lexer": "ipython3",
   "version": "3.8.3"
  }
 },
 "nbformat": 4,
 "nbformat_minor": 5
}
