{
 "cells": [
  {
   "cell_type": "code",
   "execution_count": 1,
   "id": "d8c75cf5",
   "metadata": {
    "scrolled": true
   },
   "outputs": [],
   "source": [
    "import cv2\n",
    "import numpy as np"
   ]
  },
  {
   "cell_type": "code",
   "execution_count": 2,
   "id": "2caf8bef",
   "metadata": {},
   "outputs": [
    {
     "data": {
      "text/plain": [
       "'4.5.0'"
      ]
     },
     "execution_count": 2,
     "metadata": {},
     "output_type": "execute_result"
    }
   ],
   "source": [
    "cv2.__version__"
   ]
  },
  {
   "cell_type": "markdown",
   "id": "fe11e276",
   "metadata": {},
   "source": [
    "## For Image"
   ]
  },
  {
   "cell_type": "markdown",
   "id": "e05aed11",
   "metadata": {},
   "source": [
    "* <b><u>Note</u></b>\n",
    "* cv2.IMREAD_UNCHANGED  -->  -1\n",
    "* cv2.IMREAD_GRAYSCALE  -->   0\n",
    "* cv2.IMREAD_COLOR      -->   1"
   ]
  },
  {
   "cell_type": "code",
   "execution_count": 4,
   "id": "825cf056",
   "metadata": {},
   "outputs": [
    {
     "data": {
      "text/plain": [
       "True"
      ]
     },
     "execution_count": 4,
     "metadata": {},
     "output_type": "execute_result"
    }
   ],
   "source": [
    "img = cv2.imread('lena.jpg', 0) # flag 0, 1, -1\n",
    "# if file name is wrong then it will print none\n",
    "cv2.imshow('image', img) # (name of window, variable)\n",
    "#cv2.waitKey(0) #image will show only for 5 sec. otherwise it will show only milisecond; If we write 0 then it will stay infinity time.\n",
    "cv2.waitKey(5000)\n",
    "cv2.destroyAllWindows() # for destroy all window\n",
    "cv2.imwrite('lena_copy.png', img)"
   ]
  },
  {
   "cell_type": "markdown",
   "id": "5b537960",
   "metadata": {},
   "source": [
    "* **<u>Operation</u>**\n",
    "* Press s for save with lena_copy1.png\n",
    "* Press Esc for destroy all windows without saving\n",
    "- For Esc value of key is 27.\n",
    "- For s value we can use ord function like k==ord('s')"
   ]
  },
  {
   "cell_type": "code",
   "execution_count": 3,
   "id": "8f25568a",
   "metadata": {},
   "outputs": [],
   "source": [
    "img = cv2.imread('lena.jpg', 1)\n",
    "cv2.imshow('image', img)\n",
    "# Store value of key\n",
    "k = cv2.waitKey(0)\n",
    "\n",
    "if k==27 : # For Esc\n",
    "    cv2.destroyAllWindows()\n",
    "elif k==ord('s') : # For s using ord function\n",
    "    cv2.imwrite('lena_copy1.png', img)\n",
    "    cv2.destroyAllWindows()"
   ]
  },
  {
   "cell_type": "markdown",
   "id": "f99bd9e8",
   "metadata": {},
   "source": [
    "#### For Line"
   ]
  },
  {
   "cell_type": "code",
   "execution_count": 72,
   "id": "70bc8ac9",
   "metadata": {},
   "outputs": [
    {
     "data": {
      "text/plain": [
       "True"
      ]
     },
     "execution_count": 72,
     "metadata": {},
     "output_type": "execute_result"
    }
   ],
   "source": [
    "img = cv2.imread('lena.jpg', 1)\n",
    "\n",
    "# cv2.line(img, startingPoint, endingPoint, color, thickness)\n",
    "# startingPoint and endingPoint write in coordinate\n",
    "# color must be in BGR format search in google\n",
    "# (blue, green, red) For blue => (255,0,0); try (147, 96, 44)\n",
    "img = cv2.line(img, (60,40), (255,255), (255,0,0), 5)\n",
    "\n",
    "cv2.imshow('image', img)\n",
    "cv2.waitKey(10000)\n",
    "cv2.destroyAllWindows() \n",
    "cv2.imwrite('lena_line.png', img)"
   ]
  },
  {
   "cell_type": "markdown",
   "id": "985dfb63",
   "metadata": {},
   "source": [
    "#### For Arrowed Line"
   ]
  },
  {
   "cell_type": "code",
   "execution_count": 73,
   "id": "6563a9e3",
   "metadata": {},
   "outputs": [
    {
     "data": {
      "text/plain": [
       "True"
      ]
     },
     "execution_count": 73,
     "metadata": {},
     "output_type": "execute_result"
    }
   ],
   "source": [
    "img = cv2.imread('lena.jpg', 1)\n",
    "\n",
    "# cv2.arrowedLine(img, startingPoint, endingPoint, color, thickness)\n",
    "# startingPoint and endingPoint write in coordinate\n",
    "# color must be in BGR format search in google\n",
    "# (blue, green, red) For blue => (255,0,0); try (44, 96, 147)\n",
    "img = cv2.arrowedLine(img, (50,500), (300,300), (147,96,44), 5)\n",
    "\n",
    "cv2.imshow('image', img)\n",
    "cv2.waitKey(10000)\n",
    "cv2.destroyAllWindows() \n",
    "cv2.imwrite('lena_arrowed_line.png', img)"
   ]
  },
  {
   "cell_type": "markdown",
   "id": "1f8f165c",
   "metadata": {},
   "source": [
    "#### For Rectangle"
   ]
  },
  {
   "cell_type": "code",
   "execution_count": 74,
   "id": "ac49a2bf",
   "metadata": {},
   "outputs": [
    {
     "data": {
      "text/plain": [
       "True"
      ]
     },
     "execution_count": 74,
     "metadata": {},
     "output_type": "execute_result"
    }
   ],
   "source": [
    "img = cv2.imread('lena.jpg', 1)\n",
    "\n",
    "# cv2.rectangle(img, topLeftVertex, lowerRightVertex, color, thickness)\n",
    "# topLeftVertex and endingPoint write in coordinate\n",
    "'''\n",
    "x1y1---------\n",
    "|           |\n",
    "|           |\n",
    "|           |\n",
    "-----------lowerRightVertex\n",
    "\n",
    "'''\n",
    "# color must be in BGR format search in google\n",
    "# (blue, green, red) For blue => (255,0,0); try (44, 96, 147)\n",
    "img = cv2.rectangle(img, (50,50), (350,500), (147,96,44), 10)\n",
    "\n",
    "cv2.imshow('image', img)\n",
    "cv2.waitKey(10000)\n",
    "cv2.destroyAllWindows() \n",
    "cv2.imwrite('lena_rectangle.png', img)\n",
    "\n",
    "# write -1 in thickness then it will fill rectangle with color\n",
    "img = cv2.rectangle(img, (100,300), (200,250), (14,96,44), -1)\n",
    "cv2.imshow('image', img)\n",
    "cv2.waitKey(10000)\n",
    "cv2.destroyAllWindows() \n",
    "cv2.imwrite('lena_filled_rectangle.png', img)"
   ]
  },
  {
   "cell_type": "markdown",
   "id": "d5198fa4",
   "metadata": {},
   "source": [
    "#### For Circle"
   ]
  },
  {
   "cell_type": "code",
   "execution_count": 75,
   "id": "61e68cab",
   "metadata": {},
   "outputs": [
    {
     "data": {
      "text/plain": [
       "True"
      ]
     },
     "execution_count": 75,
     "metadata": {},
     "output_type": "execute_result"
    }
   ],
   "source": [
    "img = cv2.imread('lena.jpg', 1)\n",
    "\n",
    "# cv2.circle(img, center, radius, color, thickness)\n",
    "# center write in coordinate\n",
    "# color must be in BGR format search in google\n",
    "# (blue, green, red) For blue => (255,0,0); try (44, 96, 147)\n",
    "img = cv2.circle(img, (125,125), 60, (0,255,0), 5)\n",
    "\n",
    "cv2.imshow('image', img)\n",
    "cv2.waitKey(10000)\n",
    "cv2.destroyAllWindows() \n",
    "cv2.imwrite('lena_circle.png', img)\n",
    "\n",
    "# write -1 in thickness then it will fill rectangle with color\n",
    "img = cv2.circle(img, (225,225), 100, (0,0,255), -1)\n",
    "cv2.imshow('image', img)\n",
    "cv2.waitKey(10000)\n",
    "cv2.destroyAllWindows() \n",
    "cv2.imwrite('lena_filled_circle.png', img)"
   ]
  },
  {
   "cell_type": "markdown",
   "id": "46ec3972",
   "metadata": {},
   "source": [
    "#### For Putting text "
   ]
  },
  {
   "cell_type": "code",
   "execution_count": 76,
   "id": "94d65a76",
   "metadata": {},
   "outputs": [
    {
     "data": {
      "text/plain": [
       "True"
      ]
     },
     "execution_count": 76,
     "metadata": {},
     "output_type": "execute_result"
    }
   ],
   "source": [
    "img = cv2.imread('lena.jpg', 1)\n",
    "\n",
    "# cv2.putText(img, text, startingPoint, fontFace, fontSize, color, thickness, lineType)\n",
    "# startingPoint is starting point of text\n",
    "# fontface is like different for we have to choose\n",
    "# color must be in BGR format search in google\n",
    "# (blue, green, red) For blue => (255,0,0); try (44, 96, 147)\n",
    "# For linetype use module\n",
    "font = cv2.FONT_HERSHEY_SIMPLEX # Use module\n",
    "img = cv2.putText(img, 'Hey Prince!', (10,250), font, 1, (255,255,255), 2, cv2.LINE_AA)\n",
    "cv2.imshow('image', img)\n",
    "cv2.waitKey(10000)\n",
    "cv2.destroyAllWindows() \n",
    "cv2.imwrite('lena_put_text.png', img)"
   ]
  },
  {
   "cell_type": "markdown",
   "id": "53416351",
   "metadata": {},
   "source": [
    "#### Create image using numpy: (Zeros method)"
   ]
  },
  {
   "cell_type": "code",
   "execution_count": 83,
   "id": "a52106fb",
   "metadata": {},
   "outputs": [
    {
     "data": {
      "text/plain": [
       "True"
      ]
     },
     "execution_count": 83,
     "metadata": {},
     "output_type": "execute_result"
    }
   ],
   "source": [
    "#img = cv2.imread('lena.jpg', 1)\n",
    "# For black image; here 3 is for black\n",
    "# np.zeros([height, width, 3], dataType)\n",
    "img = np.zeros([512, 512, 3], np.uint8)\n",
    "\n",
    "img = cv2.line(img, (60,40), (255,255), (255,0,0), 5)\n",
    "img = cv2.arrowedLine(img, (40,500), (300,300), (147,96,44), 5)\n",
    "img = cv2.rectangle(img, (50,50), (350,500), (147,96,44), 10)\n",
    "img = cv2.rectangle(img, (100,300), (200,250), (14,96,44), -1)\n",
    "img = cv2.circle(img, (125,125), 60, (0,255,0), 5)\n",
    "img = cv2.circle(img, (225,225), 100, (0,0,255), -1)\n",
    "\n",
    "cv2.imshow('image', img)\n",
    "cv2.waitKey(10000)\n",
    "cv2.destroyAllWindows() \n",
    "cv2.imwrite('lena_create_image_using_numpy_zerosMethod.png', img)"
   ]
  },
  {
   "cell_type": "markdown",
   "id": "23f9c004",
   "metadata": {},
   "source": [
    "#### There are also methods for eclips and polygon..."
   ]
  },
  {
   "cell_type": "markdown",
   "id": "1d7ee892",
   "metadata": {},
   "source": [
    "#### "
   ]
  },
  {
   "cell_type": "markdown",
   "id": "8399a16e",
   "metadata": {},
   "source": [
    "## For Video"
   ]
  },
  {
   "cell_type": "code",
   "execution_count": 1,
   "id": "e03f752e",
   "metadata": {},
   "outputs": [],
   "source": [
    "import cv2\n",
    "import numpy as np"
   ]
  },
  {
   "cell_type": "code",
   "execution_count": 98,
   "id": "ed151aa8",
   "metadata": {},
   "outputs": [],
   "source": [
    "cap = cv2.VideoCapture(0) \n",
    "# index 0 or -1 and if multiple camera then 1, 2, ... or write file name like av.mp4\n",
    "\n",
    "# For capture frame\n",
    "while(True) :\n",
    "    ret, f1 = cap.read() \n",
    "    # this ret function return true if the frame is availabe and frame will save into f1 variable.\n",
    "    cv2.imshow('frame', f1) #frame is name of window.\n",
    "    if cv2.waitKey(1) & 0xFF==ord('q') :\n",
    "        break\n",
    "        \n",
    "cap.release() # release the capture variable means release resources\n",
    "cv2.destroyAllWindows()"
   ]
  },
  {
   "cell_type": "markdown",
   "id": "1332e1e2",
   "metadata": {},
   "source": [
    "#### For Gray frame & some operation"
   ]
  },
  {
   "cell_type": "code",
   "execution_count": 12,
   "id": "6b7e28d4",
   "metadata": {},
   "outputs": [],
   "source": [
    "cap = cv2.VideoCapture(0) \n",
    "\n",
    "while(True) :\n",
    "    ret, f1 = cap.read() \n",
    "    \n",
    "    # For Gray color or for other red manual\n",
    "    gray_frame = cv2.cvtColor(f1, cv2.COLOR_BGR2GRAY)\n",
    "    \n",
    "    cv2.imshow('frame', gray_frame)\n",
    "    if cv2.waitKey(1) & 0xFF==ord('q') :\n",
    "        break\n",
    "        \n",
    "cap.release()\n",
    "cv2.destroyAllWindows()"
   ]
  },
  {
   "cell_type": "markdown",
   "id": "7efe2322",
   "metadata": {},
   "source": [
    "#### Find height and width of video & isOpened() Function"
   ]
  },
  {
   "cell_type": "code",
   "execution_count": 102,
   "id": "e8d7ed76",
   "metadata": {},
   "outputs": [
    {
     "name": "stdout",
     "output_type": "stream",
     "text": [
      "True\n",
      "640.0\n",
      "480.0\n"
     ]
    }
   ],
   "source": [
    "cap = cv2.VideoCapture(0) \n",
    "\n",
    "print(cap.isOpened())\n",
    "# If file path is wrong or parameter of VideoCapture() is worng then it will print False\n",
    "\n",
    "# there different properties; use module on opencv site\n",
    "# cv2.CAP_PROP_FRAME_WIDTH => you can write 3 bcoz it's their associate number.\n",
    "# cv2.CAP_PROP_FRAME_HEIGHT => you can write 4 bcoz it's their associate number.\n",
    "print(cap.get(cv2.CAP_PROP_FRAME_WIDTH))\n",
    "print(cap.get(cv2.CAP_PROP_FRAME_HEIGHT))\n",
    "\n",
    "while(cap.isOpened()) : # It wiil give true or false.\n",
    "    ret, f1 = cap.read() \n",
    "    \n",
    "    # For Gray color or for other red manual\n",
    "    gray_frame = cv2.cvtColor(f1, cv2.COLOR_BGR2GRAY)\n",
    "    \n",
    "    cv2.imshow('frame', gray_frame)\n",
    "    if cv2.waitKey(1) & 0xFF==ord('q') :\n",
    "        break\n",
    "        \n",
    "cap.release()\n",
    "cv2.destroyAllWindows()"
   ]
  },
  {
   "cell_type": "code",
   "execution_count": 8,
   "id": "bb324d96",
   "metadata": {},
   "outputs": [],
   "source": [
    "cap = cv2.VideoCapture('My_video.mp4') # .avi also video extension"
   ]
  },
  {
   "cell_type": "markdown",
   "id": "a3d101ca",
   "metadata": {},
   "source": [
    "#### Save the video using fourcc"
   ]
  },
  {
   "cell_type": "code",
   "execution_count": 20,
   "id": "5c43eee6",
   "metadata": {},
   "outputs": [
    {
     "name": "stdout",
     "output_type": "stream",
     "text": [
      "True\n",
      "640.0\n",
      "480.0\n"
     ]
    }
   ],
   "source": [
    "cap = cv2.VideoCapture(0) \n",
    "\n",
    "# Refer https://www.fourcc.org/ site; Four bite code\n",
    "fourcc = cv2.VideoWriter_fourcc(*'XVID') # for XVID\n",
    "# or write like this\n",
    "#fourcc = cv2.VideoWriter_fourcc('X', 'V', 'I', 'D')\n",
    "\n",
    "# video writer class for saving video\n",
    "out = cv2.VideoWriter('output.avi', fourcc, 20.0, (640, 480))\n",
    "# 20.0 is number of frame per second\n",
    "# (640, 480) is size of video\n",
    "\n",
    "print(cap.isOpened())\n",
    "\n",
    "print(cap.get(cv2.CAP_PROP_FRAME_WIDTH))\n",
    "print(cap.get(cv2.CAP_PROP_FRAME_HEIGHT))\n",
    "\n",
    "while(cap.isOpened()) : \n",
    "    ret, f1 = cap.read() \n",
    "    if ret==True :\n",
    "        out.write(f1) # video will save in colored mode not in gray\n",
    "    \n",
    "        gray_frame = cv2.cvtColor(f1, cv2.COLOR_BGR2GRAY)\n",
    "        #out.write(gray_frame)\n",
    "        \n",
    "        cv2.imshow('frame', gray_frame)\n",
    "        if cv2.waitKey(1) & 0xFF==ord('q') :\n",
    "            break\n",
    "    \n",
    "    else :\n",
    "        break\n",
    "        \n",
    "cap.release()\n",
    "out.release()\n",
    "cv2.destroyAllWindows()"
   ]
  },
  {
   "cell_type": "markdown",
   "id": "77e6f80a",
   "metadata": {},
   "source": [
    "#### Change height and width of video"
   ]
  },
  {
   "cell_type": "code",
   "execution_count": 92,
   "id": "c266f421",
   "metadata": {},
   "outputs": [
    {
     "name": "stdout",
     "output_type": "stream",
     "text": [
      "0.0\n",
      "0.0\n",
      "0.0\n",
      "0.0\n"
     ]
    }
   ],
   "source": [
    "cap = cv2.VideoCapture(1) \n",
    "\n",
    "print(cap.get(cv2.CAP_PROP_FRAME_WIDTH))\n",
    "print(cap.get(cv2.CAP_PROP_FRAME_HEIGHT))\n",
    "\n",
    "cap.set(3, 120) # 3 for width\n",
    "cap.set(4, 120) # 4 for height\n",
    "\n",
    "print(cap.get(3))\n",
    "print(cap.get(4))\n",
    "\n",
    "while(cap.isOpened()) : \n",
    "    ret, f1 = cap.read() \n",
    "    if ret==True :\n",
    "    \n",
    "        gray_frame = cv2.cvtColor(f1, cv2.COLOR_BGR2GRAY)        \n",
    "        cv2.imshow('frame', gray_frame)\n",
    "        \n",
    "        if cv2.waitKey(1) & 0xFF==ord('q') :\n",
    "            break\n",
    "    \n",
    "    else :\n",
    "        break\n",
    "        \n",
    "cap.release()\n",
    "cv2.destroyAllWindows()"
   ]
  },
  {
   "cell_type": "markdown",
   "id": "4c1577a9",
   "metadata": {},
   "source": [
    "#### For mobile  camera"
   ]
  },
  {
   "cell_type": "code",
   "execution_count": 2,
   "id": "9558957f",
   "metadata": {},
   "outputs": [
    {
     "name": "stdout",
     "output_type": "stream",
     "text": [
      "1920.0\n",
      "1080.0\n"
     ]
    }
   ],
   "source": [
    "url = 'http://192.168.0.127:8080/video'\n",
    "cap = cv2.VideoCapture(url)\n",
    "\n",
    "print(cap.get(cv2.CAP_PROP_FRAME_WIDTH))\n",
    "print(cap.get(cv2.CAP_PROP_FRAME_HEIGHT))\n",
    "\n",
    "while(True):\n",
    "    ret, f1 = cap.read()\n",
    "    if f1 is not None:\n",
    "        cv2.imshow('frame',f1)\n",
    "    \n",
    "    # Other Method\n",
    "    q = cv2.waitKey(1)\n",
    "    if q == ord(\"q\"):\n",
    "        break\n",
    "        \n",
    "cv2.destroyAllWindows()"
   ]
  },
  {
   "cell_type": "code",
   "execution_count": null,
   "id": "23161a63",
   "metadata": {},
   "outputs": [],
   "source": []
  }
 ],
 "metadata": {
  "kernelspec": {
   "display_name": "Python 3",
   "language": "python",
   "name": "python3"
  },
  "language_info": {
   "codemirror_mode": {
    "name": "ipython",
    "version": 3
   },
   "file_extension": ".py",
   "mimetype": "text/x-python",
   "name": "python",
   "nbconvert_exporter": "python",
   "pygments_lexer": "ipython3",
   "version": "3.8.3"
  }
 },
 "nbformat": 4,
 "nbformat_minor": 5
}
