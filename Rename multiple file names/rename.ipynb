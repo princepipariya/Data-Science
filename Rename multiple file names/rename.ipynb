{
 "cells": [
  {
   "cell_type": "code",
   "execution_count": 1,
   "id": "08f69ce8",
   "metadata": {},
   "outputs": [],
   "source": [
    "# Pythono3 code to rename multiple \n",
    "# files in a directory or folder"
   ]
  },
  {
   "cell_type": "code",
   "execution_count": 2,
   "id": "18b5cec5",
   "metadata": {},
   "outputs": [],
   "source": [
    "# importing os module\n",
    "import os"
   ]
  },
  {
   "cell_type": "code",
   "execution_count": 6,
   "id": "23544c9f",
   "metadata": {},
   "outputs": [],
   "source": [
    "# Function to rename multiple files\n",
    "def main():\n",
    "  \n",
    "    for count, filename in enumerate(os.listdir(\"with_mask\")):\n",
    "        dst =\"Edited\" + str(count) + \".jpg\"\n",
    "        src ='with_mask/'+ filename\n",
    "        dst ='with_mask/'+ dst\n",
    "          \n",
    "        # rename() function will\n",
    "        # rename all the files\n",
    "        os.rename(src, dst)\n",
    "  \n",
    "# Driver Code\n",
    "if __name__ == '__main__':\n",
    "      \n",
    "    # Calling main() function\n",
    "    main()"
   ]
  }
 ],
 "metadata": {
  "kernelspec": {
   "display_name": "Python 3",
   "language": "python",
   "name": "python3"
  },
  "language_info": {
   "codemirror_mode": {
    "name": "ipython",
    "version": 3
   },
   "file_extension": ".py",
   "mimetype": "text/x-python",
   "name": "python",
   "nbconvert_exporter": "python",
   "pygments_lexer": "ipython3",
   "version": "3.8.3"
  }
 },
 "nbformat": 4,
 "nbformat_minor": 5
}
